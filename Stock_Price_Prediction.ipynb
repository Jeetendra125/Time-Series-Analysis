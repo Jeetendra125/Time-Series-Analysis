{
  "cells": [
    {
      "cell_type": "code",
      "execution_count": null,
      "id": "58de519e",
      "metadata": {
        "id": "58de519e"
      },
      "outputs": [],
      "source": [
        "#import required libraries\n",
        "import numpy as np\n",
        "import pandas as pd\n",
        "from matplotlib import pyplot as plt\n",
        "%matplotlib inline\n",
        "from datetime import datetime\n",
        "from statsmodels.tsa.seasonal import seasonal_decompose\n",
        "import seaborn as sns\n"
      ]
    },
    {
      "cell_type": "code",
      "execution_count": null,
      "id": "7da6834b",
      "metadata": {
        "id": "7da6834b",
        "outputId": "d6fff080-141c-445f-aaf0-f630bed8388d"
      },
      "outputs": [
        {
          "data": {
            "text/html": [
              "<div>\n",
              "<style scoped>\n",
              "    .dataframe tbody tr th:only-of-type {\n",
              "        vertical-align: middle;\n",
              "    }\n",
              "\n",
              "    .dataframe tbody tr th {\n",
              "        vertical-align: top;\n",
              "    }\n",
              "\n",
              "    .dataframe thead th {\n",
              "        text-align: right;\n",
              "    }\n",
              "</style>\n",
              "<table border=\"1\" class=\"dataframe\">\n",
              "  <thead>\n",
              "    <tr style=\"text-align: right;\">\n",
              "      <th></th>\n",
              "      <th>Date</th>\n",
              "      <th>Open</th>\n",
              "      <th>High</th>\n",
              "      <th>Low</th>\n",
              "      <th>Close</th>\n",
              "      <th>Volume</th>\n",
              "      <th>OpenInt</th>\n",
              "      <th>Stock</th>\n",
              "    </tr>\n",
              "  </thead>\n",
              "  <tbody>\n",
              "    <tr>\n",
              "      <th>0</th>\n",
              "      <td>1984-09-07</td>\n",
              "      <td>0.42388</td>\n",
              "      <td>0.42902</td>\n",
              "      <td>0.41874</td>\n",
              "      <td>0.42388</td>\n",
              "      <td>23220030</td>\n",
              "      <td>0</td>\n",
              "      <td>AAPL</td>\n",
              "    </tr>\n",
              "    <tr>\n",
              "      <th>1</th>\n",
              "      <td>1984-09-10</td>\n",
              "      <td>0.42388</td>\n",
              "      <td>0.42516</td>\n",
              "      <td>0.41366</td>\n",
              "      <td>0.42134</td>\n",
              "      <td>18022532</td>\n",
              "      <td>0</td>\n",
              "      <td>AAPL</td>\n",
              "    </tr>\n",
              "    <tr>\n",
              "      <th>2</th>\n",
              "      <td>1984-09-11</td>\n",
              "      <td>0.42516</td>\n",
              "      <td>0.43668</td>\n",
              "      <td>0.42516</td>\n",
              "      <td>0.42902</td>\n",
              "      <td>42498199</td>\n",
              "      <td>0</td>\n",
              "      <td>AAPL</td>\n",
              "    </tr>\n",
              "    <tr>\n",
              "      <th>3</th>\n",
              "      <td>1984-09-12</td>\n",
              "      <td>0.42902</td>\n",
              "      <td>0.43157</td>\n",
              "      <td>0.41618</td>\n",
              "      <td>0.41618</td>\n",
              "      <td>37125801</td>\n",
              "      <td>0</td>\n",
              "      <td>AAPL</td>\n",
              "    </tr>\n",
              "    <tr>\n",
              "      <th>4</th>\n",
              "      <td>1984-09-13</td>\n",
              "      <td>0.43927</td>\n",
              "      <td>0.44052</td>\n",
              "      <td>0.43927</td>\n",
              "      <td>0.43927</td>\n",
              "      <td>57822062</td>\n",
              "      <td>0</td>\n",
              "      <td>AAPL</td>\n",
              "    </tr>\n",
              "  </tbody>\n",
              "</table>\n",
              "</div>"
            ],
            "text/plain": [
              "         Date     Open     High      Low    Close    Volume  OpenInt Stock\n",
              "0  1984-09-07  0.42388  0.42902  0.41874  0.42388  23220030        0  AAPL\n",
              "1  1984-09-10  0.42388  0.42516  0.41366  0.42134  18022532        0  AAPL\n",
              "2  1984-09-11  0.42516  0.43668  0.42516  0.42902  42498199        0  AAPL\n",
              "3  1984-09-12  0.42902  0.43157  0.41618  0.41618  37125801        0  AAPL\n",
              "4  1984-09-13  0.43927  0.44052  0.43927  0.43927  57822062        0  AAPL"
            ]
          },
          "execution_count": 190,
          "metadata": {},
          "output_type": "execute_result"
        }
      ],
      "source": [
        "#load the data set\n",
        "df = pd.read_csv(\"stock_data.csv\")\n",
        "df.head()"
      ]
    },
    {
      "cell_type": "code",
      "execution_count": null,
      "id": "1f90ab3b",
      "metadata": {
        "id": "1f90ab3b",
        "outputId": "dfd57a00-d9f4-4784-aaf8-8b242af385c6"
      },
      "outputs": [
        {
          "data": {
            "text/plain": [
              "(19586, 8)"
            ]
          },
          "execution_count": 191,
          "metadata": {},
          "output_type": "execute_result"
        }
      ],
      "source": [
        "#find the shape of the data\n",
        "df.shape"
      ]
    },
    {
      "cell_type": "code",
      "execution_count": null,
      "id": "d775b838",
      "metadata": {
        "id": "d775b838",
        "outputId": "216c9887-7f07-4b1f-b9bf-faec888fd903"
      },
      "outputs": [
        {
          "data": {
            "text/plain": [
              "pandas.core.frame.DataFrame"
            ]
          },
          "execution_count": 192,
          "metadata": {},
          "output_type": "execute_result"
        }
      ],
      "source": [
        "type(df)"
      ]
    },
    {
      "cell_type": "code",
      "execution_count": null,
      "id": "07ae560a",
      "metadata": {
        "id": "07ae560a",
        "outputId": "705eb3e9-d23e-467f-fdd9-9197340a7b8e"
      },
      "outputs": [
        {
          "data": {
            "text/plain": [
              "Date       0\n",
              "Open       0\n",
              "High       0\n",
              "Low        0\n",
              "Close      0\n",
              "Volume     0\n",
              "OpenInt    0\n",
              "Stock      0\n",
              "dtype: int64"
            ]
          },
          "execution_count": 193,
          "metadata": {},
          "output_type": "execute_result"
        }
      ],
      "source": [
        "#check the null value\n",
        "df.isnull().sum()"
      ]
    },
    {
      "cell_type": "code",
      "execution_count": null,
      "id": "7eb8a271",
      "metadata": {
        "id": "7eb8a271",
        "outputId": "7569688c-3a67-4bed-d0fd-1969f2713dbf"
      },
      "outputs": [
        {
          "name": "stdout",
          "output_type": "stream",
          "text": [
            "<class 'pandas.core.frame.DataFrame'>\n",
            "RangeIndex: 19586 entries, 0 to 19585\n",
            "Data columns (total 8 columns):\n",
            " #   Column   Non-Null Count  Dtype  \n",
            "---  ------   --------------  -----  \n",
            " 0   Date     19586 non-null  object \n",
            " 1   Open     19586 non-null  float64\n",
            " 2   High     19586 non-null  float64\n",
            " 3   Low      19586 non-null  float64\n",
            " 4   Close    19586 non-null  float64\n",
            " 5   Volume   19586 non-null  int64  \n",
            " 6   OpenInt  19586 non-null  int64  \n",
            " 7   Stock    19586 non-null  object \n",
            "dtypes: float64(4), int64(2), object(2)\n",
            "memory usage: 1.2+ MB\n"
          ]
        }
      ],
      "source": [
        "df.info()"
      ]
    },
    {
      "cell_type": "code",
      "execution_count": null,
      "id": "387ce43d",
      "metadata": {
        "id": "387ce43d",
        "outputId": "12889875-b29b-4c04-c211-12f80a95d49c"
      },
      "outputs": [
        {
          "data": {
            "text/html": [
              "<div>\n",
              "<style scoped>\n",
              "    .dataframe tbody tr th:only-of-type {\n",
              "        vertical-align: middle;\n",
              "    }\n",
              "\n",
              "    .dataframe tbody tr th {\n",
              "        vertical-align: top;\n",
              "    }\n",
              "\n",
              "    .dataframe thead th {\n",
              "        text-align: right;\n",
              "    }\n",
              "</style>\n",
              "<table border=\"1\" class=\"dataframe\">\n",
              "  <thead>\n",
              "    <tr style=\"text-align: right;\">\n",
              "      <th></th>\n",
              "      <th>Open</th>\n",
              "      <th>High</th>\n",
              "      <th>Low</th>\n",
              "      <th>Close</th>\n",
              "      <th>Volume</th>\n",
              "      <th>OpenInt</th>\n",
              "    </tr>\n",
              "  </thead>\n",
              "  <tbody>\n",
              "    <tr>\n",
              "      <th>count</th>\n",
              "      <td>19586.000000</td>\n",
              "      <td>19586.000000</td>\n",
              "      <td>19586.000000</td>\n",
              "      <td>19586.000000</td>\n",
              "      <td>1.958600e+04</td>\n",
              "      <td>19586.0</td>\n",
              "    </tr>\n",
              "    <tr>\n",
              "      <th>mean</th>\n",
              "      <td>37.408582</td>\n",
              "      <td>37.881571</td>\n",
              "      <td>36.906405</td>\n",
              "      <td>37.406667</td>\n",
              "      <td>8.100395e+07</td>\n",
              "      <td>0.0</td>\n",
              "    </tr>\n",
              "    <tr>\n",
              "      <th>std</th>\n",
              "      <td>59.492049</td>\n",
              "      <td>60.287797</td>\n",
              "      <td>58.622548</td>\n",
              "      <td>59.480058</td>\n",
              "      <td>7.982366e+07</td>\n",
              "      <td>0.0</td>\n",
              "    </tr>\n",
              "    <tr>\n",
              "      <th>min</th>\n",
              "      <td>0.067200</td>\n",
              "      <td>0.067200</td>\n",
              "      <td>0.067200</td>\n",
              "      <td>0.067200</td>\n",
              "      <td>0.000000e+00</td>\n",
              "      <td>0.0</td>\n",
              "    </tr>\n",
              "    <tr>\n",
              "      <th>25%</th>\n",
              "      <td>1.412300</td>\n",
              "      <td>1.440600</td>\n",
              "      <td>1.384100</td>\n",
              "      <td>1.412300</td>\n",
              "      <td>3.385552e+07</td>\n",
              "      <td>0.0</td>\n",
              "    </tr>\n",
              "    <tr>\n",
              "      <th>50%</th>\n",
              "      <td>19.649500</td>\n",
              "      <td>19.933000</td>\n",
              "      <td>19.363000</td>\n",
              "      <td>19.640000</td>\n",
              "      <td>6.294731e+07</td>\n",
              "      <td>0.0</td>\n",
              "    </tr>\n",
              "    <tr>\n",
              "      <th>75%</th>\n",
              "      <td>38.605000</td>\n",
              "      <td>39.075750</td>\n",
              "      <td>38.229250</td>\n",
              "      <td>38.655500</td>\n",
              "      <td>1.010604e+08</td>\n",
              "      <td>0.0</td>\n",
              "    </tr>\n",
              "    <tr>\n",
              "      <th>max</th>\n",
              "      <td>386.690000</td>\n",
              "      <td>389.610000</td>\n",
              "      <td>379.345000</td>\n",
              "      <td>385.000000</td>\n",
              "      <td>2.069770e+09</td>\n",
              "      <td>0.0</td>\n",
              "    </tr>\n",
              "  </tbody>\n",
              "</table>\n",
              "</div>"
            ],
            "text/plain": [
              "               Open          High           Low         Close        Volume  \\\n",
              "count  19586.000000  19586.000000  19586.000000  19586.000000  1.958600e+04   \n",
              "mean      37.408582     37.881571     36.906405     37.406667  8.100395e+07   \n",
              "std       59.492049     60.287797     58.622548     59.480058  7.982366e+07   \n",
              "min        0.067200      0.067200      0.067200      0.067200  0.000000e+00   \n",
              "25%        1.412300      1.440600      1.384100      1.412300  3.385552e+07   \n",
              "50%       19.649500     19.933000     19.363000     19.640000  6.294731e+07   \n",
              "75%       38.605000     39.075750     38.229250     38.655500  1.010604e+08   \n",
              "max      386.690000    389.610000    379.345000    385.000000  2.069770e+09   \n",
              "\n",
              "       OpenInt  \n",
              "count  19586.0  \n",
              "mean       0.0  \n",
              "std        0.0  \n",
              "min        0.0  \n",
              "25%        0.0  \n",
              "50%        0.0  \n",
              "75%        0.0  \n",
              "max        0.0  "
            ]
          },
          "execution_count": 195,
          "metadata": {},
          "output_type": "execute_result"
        }
      ],
      "source": [
        "#find the statistics of the data\n",
        "df.describe()"
      ]
    },
    {
      "cell_type": "code",
      "execution_count": null,
      "id": "acc86dae",
      "metadata": {
        "id": "acc86dae"
      },
      "outputs": [],
      "source": [
        "# we found the for the column\"Close\", there is a large difference in mean and median. This implies there are some outliers in the data set\n"
      ]
    },
    {
      "cell_type": "code",
      "execution_count": null,
      "id": "02f7fcd8",
      "metadata": {
        "id": "02f7fcd8",
        "outputId": "ec4dd3c8-1b5a-4bbc-9d22-93758dabe6ae"
      },
      "outputs": [
        {
          "data": {
            "text/html": [
              "<div>\n",
              "<style scoped>\n",
              "    .dataframe tbody tr th:only-of-type {\n",
              "        vertical-align: middle;\n",
              "    }\n",
              "\n",
              "    .dataframe tbody tr th {\n",
              "        vertical-align: top;\n",
              "    }\n",
              "\n",
              "    .dataframe thead th {\n",
              "        text-align: right;\n",
              "    }\n",
              "</style>\n",
              "<table border=\"1\" class=\"dataframe\">\n",
              "  <thead>\n",
              "    <tr style=\"text-align: right;\">\n",
              "      <th></th>\n",
              "      <th>Date</th>\n",
              "      <th>Open</th>\n",
              "      <th>High</th>\n",
              "      <th>Low</th>\n",
              "      <th>Close</th>\n",
              "      <th>Volume</th>\n",
              "      <th>OpenInt</th>\n",
              "    </tr>\n",
              "    <tr>\n",
              "      <th>Stock</th>\n",
              "      <th></th>\n",
              "      <th></th>\n",
              "      <th></th>\n",
              "      <th></th>\n",
              "      <th></th>\n",
              "      <th></th>\n",
              "      <th></th>\n",
              "    </tr>\n",
              "  </thead>\n",
              "  <tbody>\n",
              "    <tr>\n",
              "      <th>AAPL</th>\n",
              "      <td>8364</td>\n",
              "      <td>8364</td>\n",
              "      <td>8364</td>\n",
              "      <td>8364</td>\n",
              "      <td>8364</td>\n",
              "      <td>8364</td>\n",
              "      <td>8364</td>\n",
              "    </tr>\n",
              "    <tr>\n",
              "      <th>FB</th>\n",
              "      <td>1381</td>\n",
              "      <td>1381</td>\n",
              "      <td>1381</td>\n",
              "      <td>1381</td>\n",
              "      <td>1381</td>\n",
              "      <td>1381</td>\n",
              "      <td>1381</td>\n",
              "    </tr>\n",
              "    <tr>\n",
              "      <th>MSFT</th>\n",
              "      <td>7983</td>\n",
              "      <td>7983</td>\n",
              "      <td>7983</td>\n",
              "      <td>7983</td>\n",
              "      <td>7983</td>\n",
              "      <td>7983</td>\n",
              "      <td>7983</td>\n",
              "    </tr>\n",
              "    <tr>\n",
              "      <th>TSLA</th>\n",
              "      <td>1858</td>\n",
              "      <td>1858</td>\n",
              "      <td>1858</td>\n",
              "      <td>1858</td>\n",
              "      <td>1858</td>\n",
              "      <td>1858</td>\n",
              "      <td>1858</td>\n",
              "    </tr>\n",
              "  </tbody>\n",
              "</table>\n",
              "</div>"
            ],
            "text/plain": [
              "       Date  Open  High   Low  Close  Volume  OpenInt\n",
              "Stock                                                \n",
              "AAPL   8364  8364  8364  8364   8364    8364     8364\n",
              "FB     1381  1381  1381  1381   1381    1381     1381\n",
              "MSFT   7983  7983  7983  7983   7983    7983     7983\n",
              "TSLA   1858  1858  1858  1858   1858    1858     1858"
            ]
          },
          "execution_count": 197,
          "metadata": {},
          "output_type": "execute_result"
        }
      ],
      "source": [
        "df.groupby('Stock').count()"
      ]
    },
    {
      "cell_type": "code",
      "execution_count": null,
      "id": "dce05389",
      "metadata": {
        "id": "dce05389",
        "outputId": "345af393-0cd0-41ff-95ba-52bc3d1da3ee"
      },
      "outputs": [
        {
          "data": {
            "text/html": [
              "<div>\n",
              "<style scoped>\n",
              "    .dataframe tbody tr th:only-of-type {\n",
              "        vertical-align: middle;\n",
              "    }\n",
              "\n",
              "    .dataframe tbody tr th {\n",
              "        vertical-align: top;\n",
              "    }\n",
              "\n",
              "    .dataframe thead th {\n",
              "        text-align: right;\n",
              "    }\n",
              "</style>\n",
              "<table border=\"1\" class=\"dataframe\">\n",
              "  <thead>\n",
              "    <tr style=\"text-align: right;\">\n",
              "      <th></th>\n",
              "      <th>Open</th>\n",
              "      <th>High</th>\n",
              "      <th>Low</th>\n",
              "      <th>Close</th>\n",
              "      <th>Volume</th>\n",
              "      <th>OpenInt</th>\n",
              "      <th>Stock</th>\n",
              "    </tr>\n",
              "    <tr>\n",
              "      <th>Date</th>\n",
              "      <th></th>\n",
              "      <th></th>\n",
              "      <th></th>\n",
              "      <th></th>\n",
              "      <th></th>\n",
              "      <th></th>\n",
              "      <th></th>\n",
              "    </tr>\n",
              "  </thead>\n",
              "  <tbody>\n",
              "    <tr>\n",
              "      <th>1984-09-07</th>\n",
              "      <td>0.42388</td>\n",
              "      <td>0.42902</td>\n",
              "      <td>0.41874</td>\n",
              "      <td>0.42388</td>\n",
              "      <td>23220030</td>\n",
              "      <td>0</td>\n",
              "      <td>AAPL</td>\n",
              "    </tr>\n",
              "    <tr>\n",
              "      <th>1984-09-10</th>\n",
              "      <td>0.42388</td>\n",
              "      <td>0.42516</td>\n",
              "      <td>0.41366</td>\n",
              "      <td>0.42134</td>\n",
              "      <td>18022532</td>\n",
              "      <td>0</td>\n",
              "      <td>AAPL</td>\n",
              "    </tr>\n",
              "    <tr>\n",
              "      <th>1984-09-11</th>\n",
              "      <td>0.42516</td>\n",
              "      <td>0.43668</td>\n",
              "      <td>0.42516</td>\n",
              "      <td>0.42902</td>\n",
              "      <td>42498199</td>\n",
              "      <td>0</td>\n",
              "      <td>AAPL</td>\n",
              "    </tr>\n",
              "    <tr>\n",
              "      <th>1984-09-12</th>\n",
              "      <td>0.42902</td>\n",
              "      <td>0.43157</td>\n",
              "      <td>0.41618</td>\n",
              "      <td>0.41618</td>\n",
              "      <td>37125801</td>\n",
              "      <td>0</td>\n",
              "      <td>AAPL</td>\n",
              "    </tr>\n",
              "    <tr>\n",
              "      <th>1984-09-13</th>\n",
              "      <td>0.43927</td>\n",
              "      <td>0.44052</td>\n",
              "      <td>0.43927</td>\n",
              "      <td>0.43927</td>\n",
              "      <td>57822062</td>\n",
              "      <td>0</td>\n",
              "      <td>AAPL</td>\n",
              "    </tr>\n",
              "  </tbody>\n",
              "</table>\n",
              "</div>"
            ],
            "text/plain": [
              "               Open     High      Low    Close    Volume  OpenInt Stock\n",
              "Date                                                                   \n",
              "1984-09-07  0.42388  0.42902  0.41874  0.42388  23220030        0  AAPL\n",
              "1984-09-10  0.42388  0.42516  0.41366  0.42134  18022532        0  AAPL\n",
              "1984-09-11  0.42516  0.43668  0.42516  0.42902  42498199        0  AAPL\n",
              "1984-09-12  0.42902  0.43157  0.41618  0.41618  37125801        0  AAPL\n",
              "1984-09-13  0.43927  0.44052  0.43927  0.43927  57822062        0  AAPL"
            ]
          },
          "execution_count": 198,
          "metadata": {},
          "output_type": "execute_result"
        }
      ],
      "source": [
        "\n",
        "df['Date'] = pd.to_datetime(df['Date'])\n",
        "df.set_index('Date', inplace = True)\n",
        "df.head()"
      ]
    },
    {
      "cell_type": "code",
      "execution_count": null,
      "id": "8c937bd2",
      "metadata": {
        "id": "8c937bd2",
        "outputId": "38b69bb6-9555-4e5a-8347-bdaf87a0c28a"
      },
      "outputs": [
        {
          "data": {
            "text/html": [
              "<div>\n",
              "<style scoped>\n",
              "    .dataframe tbody tr th:only-of-type {\n",
              "        vertical-align: middle;\n",
              "    }\n",
              "\n",
              "    .dataframe tbody tr th {\n",
              "        vertical-align: top;\n",
              "    }\n",
              "\n",
              "    .dataframe thead th {\n",
              "        text-align: right;\n",
              "    }\n",
              "</style>\n",
              "<table border=\"1\" class=\"dataframe\">\n",
              "  <thead>\n",
              "    <tr style=\"text-align: right;\">\n",
              "      <th></th>\n",
              "      <th>Open</th>\n",
              "      <th>High</th>\n",
              "      <th>Low</th>\n",
              "      <th>Close</th>\n",
              "      <th>Volume</th>\n",
              "      <th>OpenInt</th>\n",
              "      <th>Stock</th>\n",
              "      <th>Year</th>\n",
              "    </tr>\n",
              "    <tr>\n",
              "      <th>Date</th>\n",
              "      <th></th>\n",
              "      <th></th>\n",
              "      <th></th>\n",
              "      <th></th>\n",
              "      <th></th>\n",
              "      <th></th>\n",
              "      <th></th>\n",
              "      <th></th>\n",
              "    </tr>\n",
              "  </thead>\n",
              "  <tbody>\n",
              "    <tr>\n",
              "      <th>1984-09-07</th>\n",
              "      <td>0.42388</td>\n",
              "      <td>0.42902</td>\n",
              "      <td>0.41874</td>\n",
              "      <td>0.42388</td>\n",
              "      <td>23220030</td>\n",
              "      <td>0</td>\n",
              "      <td>AAPL</td>\n",
              "      <td>1984</td>\n",
              "    </tr>\n",
              "    <tr>\n",
              "      <th>1984-09-10</th>\n",
              "      <td>0.42388</td>\n",
              "      <td>0.42516</td>\n",
              "      <td>0.41366</td>\n",
              "      <td>0.42134</td>\n",
              "      <td>18022532</td>\n",
              "      <td>0</td>\n",
              "      <td>AAPL</td>\n",
              "      <td>1984</td>\n",
              "    </tr>\n",
              "    <tr>\n",
              "      <th>1984-09-11</th>\n",
              "      <td>0.42516</td>\n",
              "      <td>0.43668</td>\n",
              "      <td>0.42516</td>\n",
              "      <td>0.42902</td>\n",
              "      <td>42498199</td>\n",
              "      <td>0</td>\n",
              "      <td>AAPL</td>\n",
              "      <td>1984</td>\n",
              "    </tr>\n",
              "    <tr>\n",
              "      <th>1984-09-12</th>\n",
              "      <td>0.42902</td>\n",
              "      <td>0.43157</td>\n",
              "      <td>0.41618</td>\n",
              "      <td>0.41618</td>\n",
              "      <td>37125801</td>\n",
              "      <td>0</td>\n",
              "      <td>AAPL</td>\n",
              "      <td>1984</td>\n",
              "    </tr>\n",
              "    <tr>\n",
              "      <th>1984-09-13</th>\n",
              "      <td>0.43927</td>\n",
              "      <td>0.44052</td>\n",
              "      <td>0.43927</td>\n",
              "      <td>0.43927</td>\n",
              "      <td>57822062</td>\n",
              "      <td>0</td>\n",
              "      <td>AAPL</td>\n",
              "      <td>1984</td>\n",
              "    </tr>\n",
              "  </tbody>\n",
              "</table>\n",
              "</div>"
            ],
            "text/plain": [
              "               Open     High      Low    Close    Volume  OpenInt Stock  Year\n",
              "Date                                                                         \n",
              "1984-09-07  0.42388  0.42902  0.41874  0.42388  23220030        0  AAPL  1984\n",
              "1984-09-10  0.42388  0.42516  0.41366  0.42134  18022532        0  AAPL  1984\n",
              "1984-09-11  0.42516  0.43668  0.42516  0.42902  42498199        0  AAPL  1984\n",
              "1984-09-12  0.42902  0.43157  0.41618  0.41618  37125801        0  AAPL  1984\n",
              "1984-09-13  0.43927  0.44052  0.43927  0.43927  57822062        0  AAPL  1984"
            ]
          },
          "execution_count": 199,
          "metadata": {},
          "output_type": "execute_result"
        }
      ],
      "source": [
        "df['Year'] = df.index.year\n",
        "df.head()"
      ]
    },
    {
      "cell_type": "code",
      "execution_count": null,
      "id": "fed2b647",
      "metadata": {
        "id": "fed2b647",
        "outputId": "12ea4e8f-0080-48d8-ad35-5b980769320e"
      },
      "outputs": [
        {
          "data": {
            "text/html": [
              "<div>\n",
              "<style scoped>\n",
              "    .dataframe tbody tr th:only-of-type {\n",
              "        vertical-align: middle;\n",
              "    }\n",
              "\n",
              "    .dataframe tbody tr th {\n",
              "        vertical-align: top;\n",
              "    }\n",
              "\n",
              "    .dataframe thead th {\n",
              "        text-align: right;\n",
              "    }\n",
              "</style>\n",
              "<table border=\"1\" class=\"dataframe\">\n",
              "  <thead>\n",
              "    <tr style=\"text-align: right;\">\n",
              "      <th></th>\n",
              "      <th>Open</th>\n",
              "      <th>High</th>\n",
              "      <th>Low</th>\n",
              "      <th>Close</th>\n",
              "      <th>Volume</th>\n",
              "      <th>OpenInt</th>\n",
              "      <th>Stock</th>\n",
              "      <th>Year</th>\n",
              "    </tr>\n",
              "    <tr>\n",
              "      <th>Date</th>\n",
              "      <th></th>\n",
              "      <th></th>\n",
              "      <th></th>\n",
              "      <th></th>\n",
              "      <th></th>\n",
              "      <th></th>\n",
              "      <th></th>\n",
              "      <th></th>\n",
              "    </tr>\n",
              "  </thead>\n",
              "  <tbody>\n",
              "    <tr>\n",
              "      <th>1995-01-03</th>\n",
              "      <td>1.2446</td>\n",
              "      <td>1.2446</td>\n",
              "      <td>1.2128</td>\n",
              "      <td>1.2294</td>\n",
              "      <td>28967264</td>\n",
              "      <td>0</td>\n",
              "      <td>AAPL</td>\n",
              "      <td>1995</td>\n",
              "    </tr>\n",
              "    <tr>\n",
              "      <th>1995-01-04</th>\n",
              "      <td>1.2361</td>\n",
              "      <td>1.2677</td>\n",
              "      <td>1.2361</td>\n",
              "      <td>1.2614</td>\n",
              "      <td>44253608</td>\n",
              "      <td>0</td>\n",
              "      <td>AAPL</td>\n",
              "      <td>1995</td>\n",
              "    </tr>\n",
              "    <tr>\n",
              "      <th>1995-01-05</th>\n",
              "      <td>1.2562</td>\n",
              "      <td>1.2614</td>\n",
              "      <td>1.2407</td>\n",
              "      <td>1.2446</td>\n",
              "      <td>20536941</td>\n",
              "      <td>0</td>\n",
              "      <td>AAPL</td>\n",
              "      <td>1995</td>\n",
              "    </tr>\n",
              "    <tr>\n",
              "      <th>1995-01-06</th>\n",
              "      <td>1.3320</td>\n",
              "      <td>1.3807</td>\n",
              "      <td>1.3164</td>\n",
              "      <td>1.3447</td>\n",
              "      <td>300251742</td>\n",
              "      <td>0</td>\n",
              "      <td>AAPL</td>\n",
              "      <td>1995</td>\n",
              "    </tr>\n",
              "    <tr>\n",
              "      <th>1995-01-09</th>\n",
              "      <td>1.3320</td>\n",
              "      <td>1.3407</td>\n",
              "      <td>1.3126</td>\n",
              "      <td>1.3190</td>\n",
              "      <td>76438048</td>\n",
              "      <td>0</td>\n",
              "      <td>AAPL</td>\n",
              "      <td>1995</td>\n",
              "    </tr>\n",
              "  </tbody>\n",
              "</table>\n",
              "</div>"
            ],
            "text/plain": [
              "              Open    High     Low   Close     Volume  OpenInt Stock  Year\n",
              "Date                                                                      \n",
              "1995-01-03  1.2446  1.2446  1.2128  1.2294   28967264        0  AAPL  1995\n",
              "1995-01-04  1.2361  1.2677  1.2361  1.2614   44253608        0  AAPL  1995\n",
              "1995-01-05  1.2562  1.2614  1.2407  1.2446   20536941        0  AAPL  1995\n",
              "1995-01-06  1.3320  1.3807  1.3164  1.3447  300251742        0  AAPL  1995\n",
              "1995-01-09  1.3320  1.3407  1.3126  1.3190   76438048        0  AAPL  1995"
            ]
          },
          "execution_count": 207,
          "metadata": {},
          "output_type": "execute_result"
        }
      ],
      "source": [
        "df1 = df[df['Year']>=1995]\n",
        "df1.head()"
      ]
    },
    {
      "cell_type": "code",
      "execution_count": null,
      "id": "fe54e835",
      "metadata": {
        "id": "fe54e835",
        "outputId": "4e4da676-5c19-4bbc-e8a3-fd32f71c627b"
      },
      "outputs": [
        {
          "data": {
            "text/html": [
              "<div>\n",
              "<style scoped>\n",
              "    .dataframe tbody tr th:only-of-type {\n",
              "        vertical-align: middle;\n",
              "    }\n",
              "\n",
              "    .dataframe tbody tr th {\n",
              "        vertical-align: top;\n",
              "    }\n",
              "\n",
              "    .dataframe thead th {\n",
              "        text-align: right;\n",
              "    }\n",
              "</style>\n",
              "<table border=\"1\" class=\"dataframe\">\n",
              "  <thead>\n",
              "    <tr style=\"text-align: right;\">\n",
              "      <th></th>\n",
              "      <th>Close</th>\n",
              "    </tr>\n",
              "    <tr>\n",
              "      <th>Date</th>\n",
              "      <th></th>\n",
              "    </tr>\n",
              "  </thead>\n",
              "  <tbody>\n",
              "    <tr>\n",
              "      <th>1995-01-03</th>\n",
              "      <td>1.2294</td>\n",
              "    </tr>\n",
              "    <tr>\n",
              "      <th>1995-01-04</th>\n",
              "      <td>1.2614</td>\n",
              "    </tr>\n",
              "    <tr>\n",
              "      <th>1995-01-05</th>\n",
              "      <td>1.2446</td>\n",
              "    </tr>\n",
              "    <tr>\n",
              "      <th>1995-01-06</th>\n",
              "      <td>1.3447</td>\n",
              "    </tr>\n",
              "    <tr>\n",
              "      <th>1995-01-09</th>\n",
              "      <td>1.3190</td>\n",
              "    </tr>\n",
              "  </tbody>\n",
              "</table>\n",
              "</div>"
            ],
            "text/plain": [
              "             Close\n",
              "Date              \n",
              "1995-01-03  1.2294\n",
              "1995-01-04  1.2614\n",
              "1995-01-05  1.2446\n",
              "1995-01-06  1.3447\n",
              "1995-01-09  1.3190"
            ]
          },
          "execution_count": 208,
          "metadata": {},
          "output_type": "execute_result"
        }
      ],
      "source": [
        "df2 = df1[['Close']]\n",
        "df2.head()"
      ]
    },
    {
      "cell_type": "code",
      "execution_count": null,
      "id": "6606b80d",
      "metadata": {
        "id": "6606b80d",
        "outputId": "b06a1ed7-21f5-48e7-fcab-2cc3f09776dd"
      },
      "outputs": [
        {
          "data": {
            "image/png": "[encoded data removed]",
            "text/plain": [
              "<Figure size 720x288 with 1 Axes>"
            ]
          },
          "metadata": {
            "needs_background": "light"
          },
          "output_type": "display_data"
        }
      ],
      "source": [
        "#plot the graph of the data set\n",
        "plt.figure(figsize =(10, 4))\n",
        "#sns.lineplot(x = 'Date', y= 'Close', data = df1)\n",
        "#plt.plot(df2, color ='green')\n",
        "df2['Close'].plot(color ='green')\n",
        "plt.xlabel('Date')\n",
        "plt.ylabel('close stock price')\n",
        "plt.show()\n"
      ]
    },
    {
      "cell_type": "code",
      "execution_count": null,
      "id": "8377fe67",
      "metadata": {
        "id": "8377fe67",
        "outputId": "087dcae7-9984-4abc-ab2a-80203ba3d32d"
      },
      "outputs": [
        {
          "data": {
            "image/png": "[encoded data removed]",
            "text/plain": [
              "<Figure size 1440x432 with 1 Axes>"
            ]
          },
          "metadata": {
            "needs_background": "light"
          },
          "output_type": "display_data"
        }
      ],
      "source": [
        "df2['Close'].plot(figsize =(20,6))\n",
        "plt.legend(loc ='best')\n",
        "plt.show(block = False)"
      ]
    },
    {
      "cell_type": "code",
      "execution_count": null,
      "id": "06b83450",
      "metadata": {
        "id": "06b83450",
        "outputId": "8b59fb2e-96bc-4baf-bdf5-caee5e5fcd4b"
      },
      "outputs": [
        {
          "data": {
            "image/png": "[encoded data removed]",
            "text/plain": [
              "<Figure size 432x288 with 1 Axes>"
            ]
          },
          "metadata": {
            "needs_background": "light"
          },
          "output_type": "display_data"
        }
      ],
      "source": [
        "#check stationarity of the data set\n",
        "#Draw ACF and PACF plot\n",
        "from statsmodels.graphics.tsaplots import plot_acf, plot_pacf\n",
        "plot_acf(df2)\n",
        "plt.show()"
      ]
    },
    {
      "cell_type": "code",
      "execution_count": null,
      "id": "b018df26",
      "metadata": {
        "id": "b018df26",
        "outputId": "7eadf24a-a1da-40df-9825-3a73fb632c40"
      },
      "outputs": [
        {
          "data": {
            "image/png": "[encoded data removed]",
            "text/plain": [
              "<Figure size 432x288 with 1 Axes>"
            ]
          },
          "metadata": {
            "needs_background": "light"
          },
          "output_type": "display_data"
        }
      ],
      "source": [
        "plot_pacf(df2)\n",
        "plt.show()"
      ]
    },
    {
      "cell_type": "code",
      "execution_count": null,
      "id": "87d074f1",
      "metadata": {
        "id": "87d074f1"
      },
      "outputs": [],
      "source": [
        "from statsmodels.tsa.stattools import adfuller\n",
        "def test_stationarity(timeseries):\n",
        "    #Determining rolling statistics\n",
        "    movingAvg = timeseries.rolling(window = 12).mean()\n",
        "    movingstd = timeseries.rolling(window = 12).std()\n",
        "    #plot rolling statistics\n",
        "    plt.plot(timeseries, color ='green')\n",
        "    #plt.plot(movingAvg, color ='blue')\n",
        "    #plt.plot(movingstd, color ='red')\n",
        "    plt.legend(loc ='best')\n",
        "\n",
        "    #sns.lineplot(x = 'Date', y ='Close', data = timeseries)\n",
        "    #sns.lineplot(x ='Date', color = 'blue', label ='moving avg')\n",
        "    #sns.lineplot(movingstd, color ='red', label = 'movingstd')\n",
        "    plt.show(block = False)\n",
        "\n",
        "    #perform Decky-fuller test\n",
        "    dtest = adfuller(timeseries['Close'], autolag ='AIC')\n",
        "    dfoutput = pd.Series(dtest[0:4], index =['Test statistics', 'p-value', '#lags used', 'No. of obersvation used'])\n",
        "    for key, value in dtest[4].items():\n",
        "        dfoutput['critical value (%s)'%key] = value\n",
        "    print(dfoutput)\n",
        "\n",
        "\n"
      ]
    },
    {
      "cell_type": "code",
      "execution_count": null,
      "id": "2d572646",
      "metadata": {
        "id": "2d572646",
        "outputId": "484d5f70-c21d-4fee-cef0-e630a84da782"
      },
      "outputs": [
        {
          "name": "stderr",
          "output_type": "stream",
          "text": [
            "No handles with labels found to put in legend.\n"
          ]
        },
        {
          "data": {
            "image/png": "[encoded data removed]",
            "text/plain": [
              "<Figure size 432x288 with 1 Axes>"
            ]
          },
          "metadata": {
            "needs_background": "light"
          },
          "output_type": "display_data"
        },
        {
          "name": "stdout",
          "output_type": "stream",
          "text": [
            "Test statistics               -3.261218\n",
            "p-value                        0.016704\n",
            "#lags used                    42.000000\n",
            "No. of obersvation used    14707.000000\n",
            "critical value (1%)           -3.430795\n",
            "critical value (5%)           -2.861737\n",
            "critical value (10%)          -2.566875\n",
            "dtype: float64\n"
          ]
        }
      ],
      "source": [
        "test_stationarity(df2)\n",
        "\n"
      ]
    },
    {
      "cell_type": "code",
      "execution_count": null,
      "id": "aa98d6d6",
      "metadata": {
        "id": "aa98d6d6",
        "outputId": "ba3fca31-a7eb-4fbc-e019-9eb84f61d5af"
      },
      "outputs": [
        {
          "name": "stderr",
          "output_type": "stream",
          "text": [
            "<ipython-input-220-4ea927d7ba26>:1: SettingWithCopyWarning: \n",
            "A value is trying to be set on a copy of a slice from a DataFrame.\n",
            "Try using .loc[row_indexer,col_indexer] = value instead\n",
            "\n",
            "See the caveats in the documentation: https://pandas.pydata.org/pandas-docs/stable/user_guide/indexing.html#returning-a-view-versus-a-copy\n",
            "  df2['Close_first_diff'] = df2['Close'] - df2['Close'].shift(2)\n"
          ]
        },
        {
          "data": {
            "text/plain": [
              "Date\n",
              "1995-01-03         NaN\n",
              "1995-01-04         NaN\n",
              "1995-01-05      1.2294\n",
              "1995-01-06      1.2614\n",
              "1995-01-09      1.2446\n",
              "                ...   \n",
              "2017-11-06    178.9200\n",
              "2017-11-07    178.9200\n",
              "2017-11-08    180.1700\n",
              "2017-11-09    180.2500\n",
              "2017-11-10    179.5600\n",
              "Name: Close, Length: 14750, dtype: float64"
            ]
          },
          "execution_count": 220,
          "metadata": {},
          "output_type": "execute_result"
        }
      ],
      "source": [
        "df2['Close_first_diff'] = df2['Close'] - df2['Close'].shift(2)\n",
        "df2['Close'].shift(2)"
      ]
    },
    {
      "cell_type": "code",
      "execution_count": null,
      "id": "c87ee21a",
      "metadata": {
        "id": "c87ee21a",
        "outputId": "ddb0d231-b038-44d9-fdac-40227377dd67"
      },
      "outputs": [
        {
          "name": "stderr",
          "output_type": "stream",
          "text": [
            "<ipython-input-221-d8491a6c0054>:1: SettingWithCopyWarning: \n",
            "A value is trying to be set on a copy of a slice from a DataFrame\n",
            "\n",
            "See the caveats in the documentation: https://pandas.pydata.org/pandas-docs/stable/user_guide/indexing.html#returning-a-view-versus-a-copy\n",
            "  df2['Close_first_diff'].dropna(inplace = True)\n",
            "No handles with labels found to put in legend.\n"
          ]
        },
        {
          "data": {
            "image/png": "[encoded data removed]",
            "text/plain": [
              "<Figure size 432x288 with 1 Axes>"
            ]
          },
          "metadata": {
            "needs_background": "light"
          },
          "output_type": "display_data"
        },
        {
          "name": "stdout",
          "output_type": "stream",
          "text": [
            "Test statistics               -3.261218\n",
            "p-value                        0.016704\n",
            "#lags used                    42.000000\n",
            "No. of obersvation used    14707.000000\n",
            "critical value (1%)           -3.430795\n",
            "critical value (5%)           -2.861737\n",
            "critical value (10%)          -2.566875\n",
            "dtype: float64\n"
          ]
        }
      ],
      "source": [
        "df2['Close_first_diff'].dropna(inplace = True)\n",
        "test_stationarity(df2)\n"
      ]
    },
    {
      "cell_type": "code",
      "execution_count": null,
      "id": "d99d70a7",
      "metadata": {
        "id": "d99d70a7",
        "outputId": "4436ed3d-3355-4b4d-904c-ae8bc8d1146f"
      },
      "outputs": [
        {
          "data": {
            "image/png": "[encoded data removed]",
            "text/plain": [
              "<Figure size 432x288 with 1 Axes>"
            ]
          },
          "metadata": {
            "needs_background": "light"
          },
          "output_type": "display_data"
        }
      ],
      "source": [
        "df3 = np.log(df2)\n",
        "plt.plot(df3, color ='blue', label ='log scaled data')\n",
        "plt.show()"
      ]
    },
    {
      "cell_type": "code",
      "execution_count": null,
      "id": "735ec64a",
      "metadata": {
        "id": "735ec64a",
        "outputId": "492ed0b2-748f-4670-b662-087c587d3b1e"
      },
      "outputs": [
        {
          "data": {
            "text/plain": [
              "Date\n",
              "1995-01-03         NaN\n",
              "1995-01-04      1.2294\n",
              "1995-01-05      1.2614\n",
              "1995-01-06      1.2446\n",
              "1995-01-09      1.3447\n",
              "                ...   \n",
              "2017-11-06    178.9200\n",
              "2017-11-07    180.1700\n",
              "2017-11-08    180.2500\n",
              "2017-11-09    179.5600\n",
              "2017-11-10    179.3000\n",
              "Name: Close, Length: 14750, dtype: float64"
            ]
          },
          "execution_count": 223,
          "metadata": {},
          "output_type": "execute_result"
        }
      ],
      "source": [
        "df3['Close_first_diff'] = df3['Close'] - df3['Close'].shift(1)\n",
        "df2['Close'].shift(1)"
      ]
    },
    {
      "cell_type": "code",
      "execution_count": null,
      "id": "3333e1aa",
      "metadata": {
        "id": "3333e1aa",
        "outputId": "7b313c55-c85a-458c-dd64-6f7c709a6bd1"
      },
      "outputs": [
        {
          "name": "stderr",
          "output_type": "stream",
          "text": [
            "No handles with labels found to put in legend.\n"
          ]
        },
        {
          "data": {
            "image/png": "[encoded data removed]",
            "text/plain": [
              "<Figure size 432x288 with 1 Axes>"
            ]
          },
          "metadata": {
            "needs_background": "light"
          },
          "output_type": "display_data"
        },
        {
          "name": "stdout",
          "output_type": "stream",
          "text": [
            "Test statistics               -2.084216\n",
            "p-value                        0.250909\n",
            "#lags used                     1.000000\n",
            "No. of obersvation used    14748.000000\n",
            "critical value (1%)           -3.430793\n",
            "critical value (5%)           -2.861736\n",
            "critical value (10%)          -2.566874\n",
            "dtype: float64\n"
          ]
        }
      ],
      "source": [
        "df3['Close_first_diff'].dropna(inplace = True)\n",
        "test_stationarity(df3)"
      ]
    },
    {
      "cell_type": "code",
      "execution_count": null,
      "id": "a1da92e6",
      "metadata": {
        "id": "a1da92e6",
        "outputId": "1b486cb9-1e7c-4fd9-a554-4b2612797861"
      },
      "outputs": [
        {
          "data": {
            "image/png": "[encoded data removed]",
            "text/plain": [
              "<Figure size 432x288 with 1 Axes>"
            ]
          },
          "metadata": {
            "needs_background": "light"
          },
          "output_type": "display_data"
        }
      ],
      "source": [
        "df3.plot(color ='blue', label ='log scaled data')\n",
        "plt.show()"
      ]
    },
    {
      "cell_type": "code",
      "execution_count": null,
      "id": "38cf27a2",
      "metadata": {
        "id": "38cf27a2"
      },
      "outputs": [],
      "source": [
        "from statsmodels.tsa.arima_model import ARIMA, auto_arima\n",
        "\n"
      ]
    }
  ],
  "metadata": {
    "kernelspec": {
      "display_name": "Python 3",
      "language": "python",
      "name": "python3"
    },
    "language_info": {
      "codemirror_mode": {
        "name": "ipython",
        "version": 3
      },
      "file_extension": ".py",
      "mimetype": "text/x-python",
      "name": "python",
      "nbconvert_exporter": "python",
      "pygments_lexer": "ipython3",
      "version": "3.8.8"
    },
    "colab": {
      "provenance": []
    }
  },
  "nbformat": 4,
  "nbformat_minor": 5
}